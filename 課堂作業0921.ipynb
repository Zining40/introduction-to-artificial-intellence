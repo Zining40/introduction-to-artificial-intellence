{
 "cells": [
  {
   "cell_type": "code",
   "execution_count": 3,
   "metadata": {},
   "outputs": [],
   "source": [
    "import numpy as np\n",
    "import matplotlib.pyplot as plt"
   ]
  },
  {
   "cell_type": "code",
   "execution_count": 4,
   "metadata": {},
   "outputs": [],
   "source": [
    "def middle_layer(x, w, b):\n",
    "    u = np.dot(x, w) + b\n",
    "    return 1 / (1+np.exp(-u))"
   ]
  },
  {
   "cell_type": "code",
   "execution_count": 5,
   "metadata": {},
   "outputs": [],
   "source": [
    "def output_layer(x, w, b):\n",
    "    u = np.dot(x, w)+b\n",
    "    return u"
   ]
  },
  {
   "cell_type": "code",
   "execution_count": 13,
   "metadata": {},
   "outputs": [],
   "source": [
    "x_1 = np.arange(-1.0, 1.0, 0.4)\n",
    "x_2 = np.arange(-1.0, 1.0, 0.4)\n",
    "x_3 = np.arange(-1.0, 1.0, 0.4)\n",
    "\n",
    "w_im = np.array([[4.0,4.0,4.0], [4.0,4.0,4.0], [4.0,4.0,4.0]])\n",
    "w_mo = np.array([[1.0], [-1.0], [0]])\n",
    "\n",
    "b_im = np.array([3.0,-3.0, 1])\n",
    "b_mo = np.array([0.1])"
   ]
  },
  {
   "cell_type": "code",
   "execution_count": 14,
   "metadata": {},
   "outputs": [],
   "source": [
    "Z = np.zeros(125)"
   ]
  },
  {
   "cell_type": "code",
   "execution_count": 15,
   "metadata": {},
   "outputs": [],
   "source": [
    "for i in range(5):\n",
    "  for j in range(5):\n",
    "    for k in range(5):\n",
    "        inp = np.array([x_1[i], x_2[j], x_3[k]])\n",
    "        mid = middle_layer(inp, w_im, b_im)\n",
    "        out = output_layer(mid, w_mo, b_mo)\n",
    "        Z[i*25+j*5+k] = out[0]"
   ]
  },
  {
   "cell_type": "code",
   "execution_count": 16,
   "metadata": {},
   "outputs": [
    {
     "data": {
      "text/plain": [
       "array([0.10012309, 0.10060936, 0.10301091, 0.11473686, 0.16895435,\n",
       "       0.10060936, 0.10301091, 0.11473686, 0.16895435, 0.36803037,\n",
       "       0.10301091, 0.11473686, 0.16895435, 0.36803037, 0.74116003,\n",
       "       0.11473686, 0.16895435, 0.36803037, 0.74116003, 0.97836824,\n",
       "       0.16895435, 0.36803037, 0.74116003, 0.97836824, 0.97836824,\n",
       "       0.10060936, 0.10301091, 0.11473686, 0.16895435, 0.36803037,\n",
       "       0.10301091, 0.11473686, 0.16895435, 0.36803037, 0.74116003,\n",
       "       0.11473686, 0.16895435, 0.36803037, 0.74116003, 0.97836824,\n",
       "       0.16895435, 0.36803037, 0.74116003, 0.97836824, 0.97836824,\n",
       "       0.36803037, 0.74116003, 0.97836824, 0.97836824, 0.74116003,\n",
       "       0.10301091, 0.11473686, 0.16895435, 0.36803037, 0.74116003,\n",
       "       0.11473686, 0.16895435, 0.36803037, 0.74116003, 0.97836824,\n",
       "       0.16895435, 0.36803037, 0.74116003, 0.97836824, 0.97836824,\n",
       "       0.36803037, 0.74116003, 0.97836824, 0.97836824, 0.74116003,\n",
       "       0.74116003, 0.97836824, 0.97836824, 0.74116003, 0.36803037,\n",
       "       0.11473686, 0.16895435, 0.36803037, 0.74116003, 0.97836824,\n",
       "       0.16895435, 0.36803037, 0.74116003, 0.97836824, 0.97836824,\n",
       "       0.36803037, 0.74116003, 0.97836824, 0.97836824, 0.74116003,\n",
       "       0.74116003, 0.97836824, 0.97836824, 0.74116003, 0.36803037,\n",
       "       0.97836824, 0.97836824, 0.74116003, 0.36803037, 0.16895435,\n",
       "       0.16895435, 0.36803037, 0.74116003, 0.97836824, 0.97836824,\n",
       "       0.36803037, 0.74116003, 0.97836824, 0.97836824, 0.74116003,\n",
       "       0.74116003, 0.97836824, 0.97836824, 0.74116003, 0.36803037,\n",
       "       0.97836824, 0.97836824, 0.74116003, 0.36803037, 0.16895435,\n",
       "       0.97836824, 0.74116003, 0.36803037, 0.16895435, 0.11473686])"
      ]
     },
     "execution_count": 16,
     "metadata": {},
     "output_type": "execute_result"
    }
   ],
   "source": [
    "Z"
   ]
  },
  {
   "cell_type": "code",
   "execution_count": 20,
   "metadata": {},
   "outputs": [
    {
     "data": {
      "image/png": "[encoded data removed]",
      "text/plain": [
       "<Figure size 432x288 with 2 Axes>"
      ]
     },
     "metadata": {
      "needs_background": "light"
     },
     "output_type": "display_data"
    }
   ],
   "source": [
    "# 沒畫立體圖\n",
    "plt.imshow(Z.reshape(25,5), \"gray\", vmin = 0.0, vmax = 1.0)\n",
    "plt.colorbar()\n",
    "plt.show()"
   ]
  }
 ],
 "metadata": {
  "kernelspec": {
   "display_name": "base",
   "language": "python",
   "name": "python3"
  },
  "language_info": {
   "codemirror_mode": {
    "name": "ipython",
    "version": 3
   },
   "file_extension": ".py",
   "mimetype": "text/x-python",
   "name": "python",
   "nbconvert_exporter": "python",
   "pygments_lexer": "ipython3",
   "version": "3.8.8"
  },
  "orig_nbformat": 4
 },
 "nbformat": 4,
 "nbformat_minor": 2
}
