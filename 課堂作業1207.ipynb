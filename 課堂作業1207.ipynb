{
  "nbformat": 4,
  "nbformat_minor": 0,
  "metadata": {
    "colab": {
      "provenance": []
    },
    "kernelspec": {
      "name": "python3",
      "display_name": "Python 3"
    },
    "language_info": {
      "name": "python"
    }
  },
  "cells": [
    {
      "cell_type": "code",
      "execution_count": 1,
      "metadata": {
        "colab": {
          "base_uri": "https://localhost:8080/"
        },
        "id": "nYQXs6npXPRt",
        "outputId": "f3bb9b85-58b3-44b5-8ad7-fb426da185fb"
      },
      "outputs": [
        {
          "output_type": "stream",
          "name": "stdout",
          "text": [
            "Requirement already satisfied: librosa in /usr/local/lib/python3.10/dist-packages (0.10.1)\n",
            "Requirement already satisfied: audioread>=2.1.9 in /usr/local/lib/python3.10/dist-packages (from librosa) (3.0.1)\n",
            "Requirement already satisfied: numpy!=1.22.0,!=1.22.1,!=1.22.2,>=1.20.3 in /usr/local/lib/python3.10/dist-packages (from librosa) (1.23.5)\n",
            "Requirement already satisfied: scipy>=1.2.0 in /usr/local/lib/python3.10/dist-packages (from librosa) (1.11.4)\n",
            "Requirement already satisfied: scikit-learn>=0.20.0 in /usr/local/lib/python3.10/dist-packages (from librosa) (1.2.2)\n",
            "Requirement already satisfied: joblib>=0.14 in /usr/local/lib/python3.10/dist-packages (from librosa) (1.3.2)\n",
            "Requirement already satisfied: decorator>=4.3.0 in /usr/local/lib/python3.10/dist-packages (from librosa) (4.4.2)\n",
            "Requirement already satisfied: numba>=0.51.0 in /usr/local/lib/python3.10/dist-packages (from librosa) (0.58.1)\n",
            "Requirement already satisfied: soundfile>=0.12.1 in /usr/local/lib/python3.10/dist-packages (from librosa) (0.12.1)\n",
            "Requirement already satisfied: pooch>=1.0 in /usr/local/lib/python3.10/dist-packages (from librosa) (1.8.0)\n",
            "Requirement already satisfied: soxr>=0.3.2 in /usr/local/lib/python3.10/dist-packages (from librosa) (0.3.7)\n",
            "Requirement already satisfied: typing-extensions>=4.1.1 in /usr/local/lib/python3.10/dist-packages (from librosa) (4.5.0)\n",
            "Requirement already satisfied: lazy-loader>=0.1 in /usr/local/lib/python3.10/dist-packages (from librosa) (0.3)\n",
            "Requirement already satisfied: msgpack>=1.0 in /usr/local/lib/python3.10/dist-packages (from librosa) (1.0.7)\n",
            "Requirement already satisfied: llvmlite<0.42,>=0.41.0dev0 in /usr/local/lib/python3.10/dist-packages (from numba>=0.51.0->librosa) (0.41.1)\n",
            "Requirement already satisfied: platformdirs>=2.5.0 in /usr/local/lib/python3.10/dist-packages (from pooch>=1.0->librosa) (4.0.0)\n",
            "Requirement already satisfied: packaging>=20.0 in /usr/local/lib/python3.10/dist-packages (from pooch>=1.0->librosa) (23.2)\n",
            "Requirement already satisfied: requests>=2.19.0 in /usr/local/lib/python3.10/dist-packages (from pooch>=1.0->librosa) (2.31.0)\n",
            "Requirement already satisfied: threadpoolctl>=2.0.0 in /usr/local/lib/python3.10/dist-packages (from scikit-learn>=0.20.0->librosa) (3.2.0)\n",
            "Requirement already satisfied: cffi>=1.0 in /usr/local/lib/python3.10/dist-packages (from soundfile>=0.12.1->librosa) (1.16.0)\n",
            "Requirement already satisfied: pycparser in /usr/local/lib/python3.10/dist-packages (from cffi>=1.0->soundfile>=0.12.1->librosa) (2.21)\n",
            "Requirement already satisfied: charset-normalizer<4,>=2 in /usr/local/lib/python3.10/dist-packages (from requests>=2.19.0->pooch>=1.0->librosa) (3.3.2)\n",
            "Requirement already satisfied: idna<4,>=2.5 in /usr/local/lib/python3.10/dist-packages (from requests>=2.19.0->pooch>=1.0->librosa) (3.6)\n",
            "Requirement already satisfied: urllib3<3,>=1.21.1 in /usr/local/lib/python3.10/dist-packages (from requests>=2.19.0->pooch>=1.0->librosa) (2.0.7)\n",
            "Requirement already satisfied: certifi>=2017.4.17 in /usr/local/lib/python3.10/dist-packages (from requests>=2.19.0->pooch>=1.0->librosa) (2023.11.17)\n"
          ]
        }
      ],
      "source": [
        "!pip install librosa"
      ]
    },
    {
      "cell_type": "markdown",
      "source": [
        "# 請利用librosa套件讀取聲音檔案，並且取得13 維的梅爾倒頻譜係數"
      ],
      "metadata": {
        "id": "XFillkGkbG58"
      }
    },
    {
      "cell_type": "code",
      "source": [
        "import librosa\n",
        "import librosa.display\n",
        "import matplotlib.pyplot as plt\n",
        "\n",
        "# 聲音檔案的路徑\n",
        "audio_path = \"/content/blues.00000.wav\"\n",
        "\n",
        "# 使用 librosa 讀取聲音檔案\n",
        "y, sr = librosa.load(audio_path, sr=None)\n",
        "\n",
        "# 取得梅爾倒頻譜係數（MFCC）\n",
        "mfccs = librosa.feature.mfcc(y=y, sr=sr, n_mfcc=13)\n",
        "mfccs"
      ],
      "metadata": {
        "colab": {
          "base_uri": "https://localhost:8080/"
        },
        "id": "pCj75JVbYzhc",
        "outputId": "11b989d4-6261-4c3e-a445-ff8eec3f54aa"
      },
      "execution_count": 12,
      "outputs": [
        {
          "output_type": "execute_result",
          "data": {
            "text/plain": [
              "array([[-2.40635422e+02, -2.11214355e+02, -1.93908890e+02, ...,\n",
              "        -1.09999146e+02, -8.68144302e+01, -8.40735855e+01],\n",
              "       [ 9.96476288e+01,  1.01042831e+02,  1.02243958e+02, ...,\n",
              "         1.50079346e+02,  1.38948669e+02,  1.38309769e+02],\n",
              "       [-7.40327501e+00, -8.35852718e+00,  1.91543508e+00, ...,\n",
              "        -5.07951355e+01, -3.65361443e+01, -2.81363564e+01],\n",
              "       ...,\n",
              "       [-2.22810173e+00, -4.09619761e+00, -9.18501282e+00, ...,\n",
              "        -1.21473036e+01, -9.28038692e+00, -1.04724808e+01],\n",
              "       [-3.98046875e+00,  1.07179880e+00, -2.12721848e+00, ...,\n",
              "         6.25275421e+00,  2.70401573e+00,  4.79280353e-02],\n",
              "       [-9.62526202e-01, -1.38649666e+00, -3.84490490e+00, ...,\n",
              "         4.95667458e+00, -2.70487809e+00, -6.35826778e+00]], dtype=float32)"
            ]
          },
          "metadata": {},
          "execution_count": 12
        }
      ]
    },
    {
      "cell_type": "markdown",
      "source": [
        "# 請利用librosa套件讀取聲音檔案的384特徵"
      ],
      "metadata": {
        "id": "7cSsXjZ6bJU2"
      }
    },
    {
      "cell_type": "code",
      "source": [
        "import numpy as np\n",
        "\n",
        "# 使用 librosa 讀取聲音檔案\n",
        "y, sr = librosa.load(audio_path, sr=None)\n",
        "\n",
        "# 計算 chroma 特徵（12 維）\n",
        "chroma = librosa.feature.chroma_stft(y=y, sr=sr, n_chroma=12)\n",
        "\n",
        "# 計算 melspectrogram 特徵（128 維）\n",
        "melspectrogram = librosa.feature.melspectrogram(y=y, sr=sr, n_mels=128)\n",
        "\n",
        "# 計算 tempogram 特徵（12 維）\n",
        "tempogram = librosa.feature.tempogram(y=y, sr=sr)\n",
        "\n",
        "# 將所有特徵串聯在一起，形成 384 維的特徵向量\n",
        "features = np.concatenate([chroma, melspectrogram, tempogram], axis=0)\n",
        "\n",
        "# 確認特徵的維度\n",
        "print(features.shape)"
      ],
      "metadata": {
        "colab": {
          "base_uri": "https://localhost:8080/"
        },
        "id": "KGIuqcJgbDMZ",
        "outputId": "905861e9-c101-4f15-cc64-1f78ed71ab90"
      },
      "execution_count": 10,
      "outputs": [
        {
          "output_type": "stream",
          "name": "stdout",
          "text": [
            "(524, 1293)\n"
          ]
        }
      ]
    },
    {
      "cell_type": "markdown",
      "source": [
        "# 請繪製聲音頻譜圖"
      ],
      "metadata": {
        "id": "FjdYOJj-bRl2"
      }
    },
    {
      "cell_type": "code",
      "source": [
        "# 顯示 MFCC 圖表\n",
        "plt.figure(figsize=(10, 4))\n",
        "librosa.display.specshow(mfccs, x_axis='time')\n",
        "plt.colorbar()\n",
        "plt.title('MFCC')\n",
        "plt.show()"
      ],
      "metadata": {
        "colab": {
          "base_uri": "https://localhost:8080/",
          "height": 410
        },
        "id": "2Jqzz5K-bVIl",
        "outputId": "4d2ac0e4-4bc4-4daf-8731-28be05e365e2"
      },
      "execution_count": 13,
      "outputs": [
        {
          "output_type": "display_data",
          "data": {
            "text/plain": [
              "<Figure size 1000x400 with 2 Axes>"
            ],
            "image/png": "[encoded data removed]"
          },
          "metadata": {}
        }
      ]
    },
    {
      "cell_type": "markdown",
      "source": [
        "# 請寫一個相似度函式，比對兩首歌曲的相似程度"
      ],
      "metadata": {
        "id": "yUtgbSmXbV5V"
      }
    },
    {
      "cell_type": "code",
      "source": [
        "import librosa\n",
        "import numpy as np\n",
        "from scipy.spatial.distance import cosine\n",
        "\n",
        "def load_and_extract_features(audio_path):\n",
        "    # 使用 librosa 讀取聲音檔案\n",
        "    y, sr = librosa.load(audio_path, sr=None)\n",
        "\n",
        "    # 提取 MFC 梅爾頻率倒譜係數（MFCC）特徵\n",
        "    mfcc = librosa.feature.mfcc(y=y, sr=sr)\n",
        "\n",
        "    return mfcc\n",
        "\n",
        "def compute_similarity(audio_path1, audio_path2):\n",
        "    # 讀取並提取第一首歌曲的特徵\n",
        "    features1 = load_and_extract_features(audio_path1)\n",
        "\n",
        "    # 讀取並提取第二首歌曲的特徵\n",
        "    features2 = load_and_extract_features(audio_path2)\n",
        "\n",
        "    # 將特徵矩陣展平成一維向量\n",
        "    flat_features1 = features1.flatten()\n",
        "    flat_features2 = features2.flatten()\n",
        "\n",
        "    # 計算餘弦相似度\n",
        "    similarity = 1 - cosine(flat_features1, flat_features2)\n",
        "\n",
        "    return similarity\n",
        "\n",
        "# 兩首歌曲的檔案路徑\n",
        "audio_path1 = \"/content/blues.00000.wav\"\n",
        "audio_path2 = \"/content/blues.00001.wav\"\n",
        "\n",
        "# 計算相似度\n",
        "similarity_score = compute_similarity(audio_path1, audio_path2)\n",
        "\n",
        "# 顯示相似度\n",
        "print(f\"相似度：{similarity_score}\")\n"
      ],
      "metadata": {
        "colab": {
          "base_uri": "https://localhost:8080/"
        },
        "id": "mvKzOxIRbZUd",
        "outputId": "320daac4-a26e-46d6-8a37-d0c911dff9e9"
      },
      "execution_count": 14,
      "outputs": [
        {
          "output_type": "stream",
          "name": "stdout",
          "text": [
            "相似度：0.8143788576126099\n"
          ]
        }
      ]
    }
  ]
}