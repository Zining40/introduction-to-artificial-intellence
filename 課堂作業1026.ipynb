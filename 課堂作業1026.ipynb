{
 "cells": [
  {
   "cell_type": "code",
   "execution_count": 9,
   "metadata": {},
   "outputs": [
    {
     "name": "stdout",
     "output_type": "stream",
     "text": [
      "[[4. 3. 4.]\n",
      " [2. 4. 3.]\n",
      " [2. 3. 4.]]\n"
     ]
    }
   ],
   "source": [
    "import numpy as np\n",
    "\n",
    "def convolution(matrix, kernel):\n",
    "    matrix_height, matrix_width = matrix.shape\n",
    "    kernel_height, kernel_width = kernel.shape\n",
    "    output_height = matrix_height - kernel_height + 1\n",
    "    output_width = matrix_width - kernel_width + 1\n",
    "    output = np.zeros((output_height, output_width))\n",
    "\n",
    "    for i in range(output_height):\n",
    "        for j in range(output_width):\n",
    "            output[i, j] = np.sum(matrix[i:i+kernel_height, j:j+kernel_width] * kernel)\n",
    "\n",
    "    return output\n",
    "\n",
    "matrix = np.array([[1, 1, 1, 0, 0],\n",
    "                  [0, 1, 1, 1, 0],\n",
    "                  [0, 0, 1, 1, 1],\n",
    "                  [0, 0, 1, 1, 0],\n",
    "                  [0, 1, 1, 0, 0]])\n",
    "\n",
    "kernel = np.array([[1, 0, 1],\n",
    "                  [0, 1, 0],\n",
    "                  [1, 0, 1]])\n",
    "\n",
    "result = convolution(matrix, kernel)\n",
    "print(result)"
   ]
  }
 ],
 "metadata": {
  "kernelspec": {
   "display_name": "base",
   "language": "python",
   "name": "python3"
  },
  "language_info": {
   "codemirror_mode": {
    "name": "ipython",
    "version": 3
   },
   "file_extension": ".py",
   "mimetype": "text/x-python",
   "name": "python",
   "nbconvert_exporter": "python",
   "pygments_lexer": "ipython3",
   "version": "3.8.8"
  },
  "orig_nbformat": 4
 },
 "nbformat": 4,
 "nbformat_minor": 2
}
